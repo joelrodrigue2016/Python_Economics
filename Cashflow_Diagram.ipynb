{
 "cells": [
  {
   "cell_type": "markdown",
   "id": "8243f1c3",
   "metadata": {},
   "source": [
    "# Cash flow diagrams \n",
    "visually represent income and expenses over some time interval. The diagram consists of a horizontal line with markers at a series of time intervals. At appropriate times, expenses and costs are shown.\n",
    "\n",
    "Note that it is customary to take cash flows during a year at the end of the year, or EOY (end-of-year). There are certain cash flows for which this is not appropriate and must be handled differently. The most common would be rent, which is normally taken at the beginning of a cash period. There are other pre-paid flows which are handled [similarly](https://global.oup.com/us/companion.websites/9780199339273/student/interactive/ecce/cfd/).\n",
    "\n",
    "\n",
    "Load all the neccesary libraries"
   ]
  },
  {
   "cell_type": "code",
   "execution_count": 133,
   "id": "9fcdbd8e",
   "metadata": {},
   "outputs": [],
   "source": [
    "try:\n",
    "    import numpy as np\n",
    "    import numpy_financial as npf\n",
    "    from matplotlib import pyplot as plt\n",
    "    import pandas as pd\n",
    "    pd.options.display.max_rows = None\n",
    "    pd.options.display.max_columns = None\n",
    "except Exception as e:\n",
    "    print(e)\n"
   ]
  },
  {
   "cell_type": "markdown",
   "id": "7861e987",
   "metadata": {},
   "source": [
    "### Let's try a scenario\n",
    "What is the amortization schedule for a 1 year loan of $2500 at 8.24% interest per year compounded monthly?"
   ]
  },
  {
   "cell_type": "code",
   "execution_count": 134,
   "id": "086b8b59",
   "metadata": {},
   "outputs": [],
   "source": [
    "# loan characteristics\n",
    "original_balance = 2500\n",
    "interest = 8.24/100\n",
    "compounding = 12 #monthly\n",
    "years = 1\n",
    "terms = compounding*years #amount of years\n",
    "# payments\n",
    "periods = range(1, int(terms+1))\n",
    "interest_payment = npf.ipmt(interest/compounding, per=periods, nper=terms, pv=-original_balance)\n",
    "principal_payment = npf.ppmt(interest/compounding, per=periods, nper=terms, pv=-original_balance)"
   ]
  },
  {
   "cell_type": "code",
   "execution_count": 135,
   "id": "5bac3631",
   "metadata": {},
   "outputs": [
    {
     "data": {
      "image/png": "[encoded data removed]",
      "text/plain": [
       "<Figure size 432x288 with 1 Axes>"
      ]
     },
     "metadata": {
      "needs_background": "light"
     },
     "output_type": "display_data"
    }
   ],
   "source": [
    "plt.stackplot(periods, \n",
    "              interest_payment,\n",
    "              principal_payment,\n",
    "              labels=['Interest', 'Principal'],\n",
    "              colors=['red','pink'], \n",
    "              baseline='zero', \n",
    "              data=None)\n",
    "plt.legend(loc='upper right')\n",
    "plt.xlabel(\"Period\")\n",
    "plt.ylabel(\"Payment\")\n",
    "plt.grid(\"on\")\n",
    "plt.margins(0, 0)"
   ]
  },
  {
   "cell_type": "code",
   "execution_count": 136,
   "id": "670da957",
   "metadata": {},
   "outputs": [
    {
     "data": {
      "text/html": [
       "<div>\n",
       "<style scoped>\n",
       "    .dataframe tbody tr th:only-of-type {\n",
       "        vertical-align: middle;\n",
       "    }\n",
       "\n",
       "    .dataframe tbody tr th {\n",
       "        vertical-align: top;\n",
       "    }\n",
       "\n",
       "    .dataframe thead th {\n",
       "        text-align: right;\n",
       "    }\n",
       "</style>\n",
       "<table border=\"1\" class=\"dataframe\">\n",
       "  <thead>\n",
       "    <tr style=\"text-align: right;\">\n",
       "      <th></th>\n",
       "      <th>Beginning Balance</th>\n",
       "      <th>Payment</th>\n",
       "      <th>Interest</th>\n",
       "      <th>Principal</th>\n",
       "      <th>Ending Balance</th>\n",
       "    </tr>\n",
       "  </thead>\n",
       "  <tbody>\n",
       "    <tr>\n",
       "      <th>1</th>\n",
       "      <td>2,500.00</td>\n",
       "      <td>217.75</td>\n",
       "      <td>17.17</td>\n",
       "      <td>200.58</td>\n",
       "      <td>2,299.42</td>\n",
       "    </tr>\n",
       "    <tr>\n",
       "      <th>2</th>\n",
       "      <td>2,299.42</td>\n",
       "      <td>217.75</td>\n",
       "      <td>15.79</td>\n",
       "      <td>201.96</td>\n",
       "      <td>2,097.46</td>\n",
       "    </tr>\n",
       "    <tr>\n",
       "      <th>3</th>\n",
       "      <td>2,097.46</td>\n",
       "      <td>217.75</td>\n",
       "      <td>14.40</td>\n",
       "      <td>203.35</td>\n",
       "      <td>1,894.11</td>\n",
       "    </tr>\n",
       "    <tr>\n",
       "      <th>4</th>\n",
       "      <td>1,894.11</td>\n",
       "      <td>217.75</td>\n",
       "      <td>13.01</td>\n",
       "      <td>204.74</td>\n",
       "      <td>1,689.37</td>\n",
       "    </tr>\n",
       "    <tr>\n",
       "      <th>5</th>\n",
       "      <td>1,689.37</td>\n",
       "      <td>217.75</td>\n",
       "      <td>11.60</td>\n",
       "      <td>206.15</td>\n",
       "      <td>1,483.22</td>\n",
       "    </tr>\n",
       "    <tr>\n",
       "      <th>6</th>\n",
       "      <td>1,483.22</td>\n",
       "      <td>217.75</td>\n",
       "      <td>10.18</td>\n",
       "      <td>207.56</td>\n",
       "      <td>1,275.66</td>\n",
       "    </tr>\n",
       "    <tr>\n",
       "      <th>7</th>\n",
       "      <td>1,275.66</td>\n",
       "      <td>217.75</td>\n",
       "      <td>8.76</td>\n",
       "      <td>208.99</td>\n",
       "      <td>1,066.67</td>\n",
       "    </tr>\n",
       "    <tr>\n",
       "      <th>8</th>\n",
       "      <td>1,066.67</td>\n",
       "      <td>217.75</td>\n",
       "      <td>7.32</td>\n",
       "      <td>210.42</td>\n",
       "      <td>856.25</td>\n",
       "    </tr>\n",
       "    <tr>\n",
       "      <th>9</th>\n",
       "      <td>856.25</td>\n",
       "      <td>217.75</td>\n",
       "      <td>5.88</td>\n",
       "      <td>211.87</td>\n",
       "      <td>644.38</td>\n",
       "    </tr>\n",
       "    <tr>\n",
       "      <th>10</th>\n",
       "      <td>644.38</td>\n",
       "      <td>217.75</td>\n",
       "      <td>4.42</td>\n",
       "      <td>213.32</td>\n",
       "      <td>431.05</td>\n",
       "    </tr>\n",
       "    <tr>\n",
       "      <th>11</th>\n",
       "      <td>431.05</td>\n",
       "      <td>217.75</td>\n",
       "      <td>2.96</td>\n",
       "      <td>214.79</td>\n",
       "      <td>216.26</td>\n",
       "    </tr>\n",
       "    <tr>\n",
       "      <th>12</th>\n",
       "      <td>216.26</td>\n",
       "      <td>217.75</td>\n",
       "      <td>1.49</td>\n",
       "      <td>216.26</td>\n",
       "      <td>-0.00</td>\n",
       "    </tr>\n",
       "  </tbody>\n",
       "</table>\n",
       "</div>"
      ],
      "text/plain": [
       "    Beginning Balance  Payment  Interest  Principal  Ending Balance\n",
       "1            2,500.00   217.75     17.17     200.58        2,299.42\n",
       "2            2,299.42   217.75     15.79     201.96        2,097.46\n",
       "3            2,097.46   217.75     14.40     203.35        1,894.11\n",
       "4            1,894.11   217.75     13.01     204.74        1,689.37\n",
       "5            1,689.37   217.75     11.60     206.15        1,483.22\n",
       "6            1,483.22   217.75     10.18     207.56        1,275.66\n",
       "7            1,275.66   217.75      8.76     208.99        1,066.67\n",
       "8            1,066.67   217.75      7.32     210.42          856.25\n",
       "9              856.25   217.75      5.88     211.87          644.38\n",
       "10             644.38   217.75      4.42     213.32          431.05\n",
       "11             431.05   217.75      2.96     214.79          216.26\n",
       "12             216.26   217.75      1.49     216.26           -0.00"
      ]
     },
     "execution_count": 136,
     "metadata": {},
     "output_type": "execute_result"
    }
   ],
   "source": [
    "_# pandas float formatting_\n",
    "pd.options.display.float_format = '{:,.2f}'.format\n",
    "\n",
    "_# cash flow table_\n",
    "cf_data = {'Interest': interest_payment, 'Principal': principal_payment}\n",
    "cf_table = pd.DataFrame(data=cf_data, index=periods)\n",
    "cf_table['Payment'] = cf_table['Interest'] + cf_table['Principal']\n",
    "cf_table['Ending Balance'] = original_balance - \\\n",
    "                             cf_table['Principal'].cumsum()\n",
    "cf_table['Beginning Balance'] = [original_balance] + \\\n",
    "                                list(cf_table['Ending Balance'])[:-1]\n",
    "cf_table = cf_table[['Beginning Balance', 'Payment', 'Interest', \n",
    "                     'Principal', 'Ending Balance']]\n",
    "cf_table"
   ]
  },
  {
   "cell_type": "code",
   "execution_count": null,
   "id": "c81d5be3",
   "metadata": {},
   "outputs": [],
   "source": []
  },
  {
   "cell_type": "code",
   "execution_count": null,
   "id": "e3b57aa8",
   "metadata": {},
   "outputs": [],
   "source": []
  },
  {
   "cell_type": "code",
   "execution_count": null,
   "id": "59f5a834",
   "metadata": {},
   "outputs": [],
   "source": []
  }
 ],
 "metadata": {
  "kernelspec": {
   "display_name": "Python 3 (ipykernel)",
   "language": "python",
   "name": "python3"
  },
  "language_info": {
   "codemirror_mode": {
    "name": "ipython",
    "version": 3
   },
   "file_extension": ".py",
   "mimetype": "text/x-python",
   "name": "python",
   "nbconvert_exporter": "python",
   "pygments_lexer": "ipython3",
   "version": "3.8.12"
  }
 },
 "nbformat": 4,
 "nbformat_minor": 5
}
